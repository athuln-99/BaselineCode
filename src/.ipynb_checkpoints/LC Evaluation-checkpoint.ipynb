{
 "cells": [
  {
   "cell_type": "code",
   "execution_count": 1,
   "id": "5e1e84bf",
   "metadata": {},
   "outputs": [],
   "source": [
    "import json\n",
    "import os\n",
    "import sys\n",
    "import numpy as np\n",
    "from eval_util import batch_span_eval\n"
   ]
  },
  {
   "cell_type": "code",
   "execution_count": 3,
   "id": "609ffb52",
   "metadata": {},
   "outputs": [],
   "source": [
    "def evaluate(submit_dir, truth_dir, output_dir):\n",
    "    datasets = ['CoNLL', 'WikiGold', 'WNUT17', 'MIT_Movie',\n",
    "                'MIT_Restaurant', 'SNIPS', 'ATIS', 'Multiwoz']\n",
    "    optional_datasets = ['Onto', 'I2B2']\n",
    "    dataset_f1 = []\n",
    "    for dataset in (datasets + optional_datasets):\n",
    "        pred_file_path = os.path.join(submit_dir, dataset, 'out.json')\n",
    "        if not os.path.isfile(pred_file_path):\n",
    "            microf1 = -0.9999\n",
    "        else:\n",
    "            with open(os.path.join(submit_dir, dataset, 'out.json')) as f_pred:\n",
    "                pred = json.load(f_pred)\n",
    "            with open(os.path.join(truth_dir, dataset, 'out.json')) as f_truth:\n",
    "                truth = json.load(f_truth)\n",
    "            predict, gold = [], []\n",
    "            for k in truth:\n",
    "                assert k in pred, \\\n",
    "                    f'Example not included in submission.\\nWords: \"{k}\"\\nDataset: \"{dataset}\"'\n",
    "                example_truth = truth[k].split(' ')\n",
    "                example_pred = pred[k].split(' ')\n",
    "                gold.append(example_truth)\n",
    "                predict.append(example_pred + ['O'] * max(0, len(example_truth) - len(example_pred)))\n",
    "            npred, ngold, ncorrect = batch_span_eval(predict, gold)\n",
    "            microp = ncorrect / npred if npred > 0 else 0\n",
    "            micror = ncorrect / ngold if ngold > 0 else 0\n",
    "            microf1 = 2 * microp * micror / (microp + micror) if (microp + micror) > 0 else 0\n",
    "        print(f'{dataset}:{microf1}')\n",
    "        dataset_f1.append(microf1)\n",
    "    with open(os.path.join(output_dir, 'scores.txt'), 'w') as f:\n",
    "        for dataset, f1 in zip(datasets + optional_datasets, dataset_f1):\n",
    "            f.write(f'{dataset}: {round(f1, 4)}\\n')\n",
    "        avg_public = np.mean(dataset_f1[:len(datasets)]) if all(x >= 0 for x in dataset_f1[:len(datasets)]) else -0.9999\n",
    "        print(f'Avg_Public: {round(avg_public, 4)}')\n",
    "        f.write(f'Avg_Public: {round(avg_public, 4)}\\n')\n",
    "        avg = np.mean(dataset_f1) if all(x >= 0 for x in dataset_f1) else -0.9999\n",
    "        print(f'Avg: {round(avg, 4)}')\n",
    "        f.write(f'Avg: {round(avg, 4)}\\n')"
   ]
  },
  {
   "cell_type": "code",
   "execution_count": 5,
   "id": "679b9be2",
   "metadata": {},
   "outputs": [
    {
     "name": "stdout",
     "output_type": "stream",
     "text": [
      "D:\\UvA\\Thesis\\few-shot-NER\\src\\dataset\\conll2003\\res doesn't exist\n"
     ]
    }
   ],
   "source": [
    "if __name__ == '__main__':\n",
    "    '''\n",
    "    Usage: python evaluate.py <input_dir> <output_dir>\n",
    "\n",
    "    input_dir: folder that contains two subfolders with data, 'ref' for reference data and 'res' for predictions.\n",
    "    output_dir: folder where the output file 'scores.txt' is going to be stored\n",
    "    '''\n",
    "    current_dir = os.getcwd()\n",
    "    file_path = os.path.join(current_dir,'dataset','conll2003')\n",
    "    input_dir = file_path\n",
    "    output_dir = file_path\n",
    "\n",
    "    submit_dir = os.path.join(input_dir, 'res')\n",
    "    truth_dir = os.path.join(input_dir, 'ref')\n",
    "\n",
    "    if not os.path.isdir(submit_dir):\n",
    "        print(\"%s doesn't exist\" % submit_dir)\n",
    "\n",
    "    if os.path.isdir(submit_dir) and os.path.isdir(truth_dir):\n",
    "        if not os.path.exists(output_dir):\n",
    "            os.makedirs(output_dir)\n",
    "\n",
    "        evaluate(submit_dir, truth_dir, output_dir)\n"
   ]
  },
  {
   "cell_type": "code",
   "execution_count": null,
   "id": "3ffe31e5",
   "metadata": {},
   "outputs": [],
   "source": []
  }
 ],
 "metadata": {
  "kernelspec": {
   "display_name": "Python 3 (ipykernel)",
   "language": "python",
   "name": "python3"
  },
  "language_info": {
   "codemirror_mode": {
    "name": "ipython",
    "version": 3
   },
   "file_extension": ".py",
   "mimetype": "text/x-python",
   "name": "python",
   "nbconvert_exporter": "python",
   "pygments_lexer": "ipython3",
   "version": "3.8.10"
  }
 },
 "nbformat": 4,
 "nbformat_minor": 5
}
